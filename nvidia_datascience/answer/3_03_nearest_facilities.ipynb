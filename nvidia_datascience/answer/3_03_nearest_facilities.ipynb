{
  "cells": [
    {
      "cell_type": "markdown",
      "metadata": {
        "id": "sCPZegMoNTta"
      },
      "source": [
        "# Week 2: Identify Nearest Health Facilities"
      ]
    },
    {
      "cell_type": "markdown",
      "metadata": {
        "id": "XTDJE1UYNTta"
      },
      "source": [
        "<span style=\"color:red\">\n",
        "**UPDATE**\n",
        "\n",
        "Thank you for your analysis. Despite our warning efforts so far, the virus continues to spread rapidly. We want to get infected individuals treatment as quickly as possible, so we need your help to calculate which hospital or clinic is closest to each known infected individual in the population.\n",
        "</span>\n",
        "\n",
        "Your goal for this notebook will be to identify the nearest hospital or clinic for each infected person."
      ]
    },
    {
      "cell_type": "markdown",
      "metadata": {
        "id": "BmP26m49NTtb"
      },
      "source": [
        "## Imports"
      ]
    },
    {
      "cell_type": "code",
      "execution_count": null,
      "metadata": {
        "id": "FHXvIYTLNTtb"
      },
      "outputs": [],
      "source": [
        "import cudf\n",
        "import cuml\n",
        "import cupy as cp"
      ]
    },
    {
      "cell_type": "markdown",
      "metadata": {
        "id": "C4Ntp0KgNTtb"
      },
      "source": [
        "## Load Population Data"
      ]
    },
    {
      "cell_type": "markdown",
      "metadata": {
        "id": "KVpEw_FtNTtc"
      },
      "source": [
        "Begin by loading the `lat`, `long` and `infected` columns from `'./data/week2.csv'` into a cuDF data frame called `gdf`."
      ]
    },
    {
      "cell_type": "code",
      "execution_count": null,
      "metadata": {
        "id": "3Y59hxNQNTtc"
      },
      "outputs": [],
      "source": [
        "gdf = cudf.read_csv(\"/media/gkasap/ssd256gb/nvidia_datascience/week2.csv\", usecols = [\"lat\", \"long\", \"infected\"])# rows = 58_479_894\n",
        "print(gdf.shape)"
      ]
    },
    {
      "cell_type": "markdown",
      "metadata": {
        "id": "6PUyzUAMNTtc"
      },
      "source": [
        "## Load Hospital and Clinics Data"
      ]
    },
    {
      "cell_type": "markdown",
      "metadata": {
        "id": "qWaH_sGzNTtc"
      },
      "source": [
        "For this step, your goal is to create an `all_med` cuDF data frame that contains the latitudes and longitudes of all the hospitals (data found at `'./data/hospitals.csv'`) and clinics (data found at `'./data/clinics.csv'`)."
      ]
    },
    {
      "cell_type": "code",
      "execution_count": null,
      "metadata": {
        "id": "MyuUpFYMNTtc"
      },
      "outputs": [],
      "source": [
        "#my train of thought to create the all med dataframe, was to concat the two dataframes, but it seems that cudf.concat(), but I would like to reset the index in the dataframe and\n",
        "#more importantly I would like to know hf the latitude and a longtiude are clinics or hospitals, so I would like to add a column to the dataframe, because I have a linux pc was\n",
        "#easy for use the head command to use the columns of the csvs ( instead to open them), and I saw that this info was already in the csvs, so I would like to add this info to the dataframe.\n",
        "clinics_df = cudf.read_csv(\"/media/gkasap/ssd256gb/nvidia_datascience/clinics.csv\", usecols = [\"Latitude\", \"Longitude\", \"OrganisationType\"])# 19082  rows\n",
        "hospitals_df = cudf.read_csv(\"/media/gkasap/ssd256gb/nvidia_datascience/hospitals.csv\", usecols = [\"Latitude\", \"Longitude\", \"OrganisationType\"])# 1229 rows\n",
        "\n"
      ]
    },
    {
      "cell_type": "markdown",
      "metadata": {
        "id": "W-2SIRdmNTtd"
      },
      "source": [
        "Since we will be using the coordinates of those facilities, keep only those rows that are non-null in both  `Latitude` and `Longitude`."
      ]
    },
    {
      "cell_type": "code",
      "execution_count": null,
      "metadata": {
        "id": "2CQvewinNTtd"
      },
      "outputs": [],
      "source": [
        "print(clinics_df.isna().sum())\n",
        "print(hospitals_df.isna().sum())\n",
        "clinics_df.dropna(inplace=True)#7 rows na dropped\n",
        "hospitals_df.dropna(inplace=True)#3 rows na dropped\n",
        "all_med = cudf.concat([clinics_df, hospitals_df], axis=0, ignore_index=True)\n",
        "#I could use in the read csv keep_default_na=False, but I didnt know if the organisation type had more na values of the latitude or \n",
        "#longitude and I would drop more rows that I needed"
      ]
    },
    {
      "cell_type": "markdown",
      "metadata": {
        "id": "aMpIGk0ANTtd"
      },
      "source": [
        "## Make Grid Coordinates for Medical Facilities"
      ]
    },
    {
      "cell_type": "markdown",
      "metadata": {
        "id": "eeZyNPe2NTtd"
      },
      "source": [
        "Provided for you in the next cell (which you can expand by clicking on the \"...\", and contract again after executing by clicking on the blue left border of the cell) is the lat/long to grid coordinates converter you have used earlier in the workshop. Use this converter to create grid coordinate values stored in `northing` and `easting` columns of the `all_med` data frame you created in the last step."
      ]
    },
    {
      "cell_type": "code",
      "execution_count": null,
      "metadata": {
        "jupyter": {
          "source_hidden": true
        },
        "id": "2MaeokrLNTtd"
      },
      "outputs": [],
      "source": [
        "# https://www.ordnancesurvey.co.uk/docs/support/guide-coordinate-systems-great-britain.pdf\n",
        "\n",
        "def latlong2osgbgrid_cupy(lat, long, input_degrees=True):\n",
        "    '''\n",
        "    Converts latitude and longitude (ellipsoidal) coordinates into northing and easting (grid) coordinates, using a Transverse Mercator projection.\n",
        "    \n",
        "    Inputs:\n",
        "    lat: latitude coordinate (N)\n",
        "    long: longitude coordinate (E)\n",
        "    input_degrees: if True (default), interprets the coordinates as degrees; otherwise, interprets coordinates as radians\n",
        "    \n",
        "    Output:\n",
        "    (northing, easting)\n",
        "    '''\n",
        "    \n",
        "    if input_degrees:\n",
        "        lat = lat * cp.pi/180\n",
        "        long = long * cp.pi/180\n",
        "\n",
        "    a = 6377563.396\n",
        "    b = 6356256.909\n",
        "    e2 = (a**2 - b**2) / a**2\n",
        "\n",
        "    N0 = -100000 # northing of true origin\n",
        "    E0 = 400000 # easting of true origin\n",
        "    F0 = .9996012717 # scale factor on central meridian\n",
        "    phi0 = 49 * cp.pi / 180 # latitude of true origin\n",
        "    lambda0 = -2 * cp.pi / 180 # longitude of true origin and central meridian\n",
        "    \n",
        "    sinlat = cp.sin(lat)\n",
        "    coslat = cp.cos(lat)\n",
        "    tanlat = cp.tan(lat)\n",
        "    \n",
        "    latdiff = lat-phi0\n",
        "    longdiff = long-lambda0\n",
        "\n",
        "    n = (a-b) / (a+b)\n",
        "    nu = a * F0 * (1 - e2 * sinlat ** 2) ** -.5\n",
        "    rho = a * F0 * (1 - e2) * (1 - e2 * sinlat ** 2) ** -1.5\n",
        "    eta2 = nu / rho - 1\n",
        "    M = b * F0 * ((1 + n + 5/4 * (n**2 + n**3)) * latdiff - \n",
        "                  (3*(n+n**2) + 21/8 * n**3) * cp.sin(latdiff) * cp.cos(lat+phi0) +\n",
        "                  15/8 * (n**2 + n**3) * cp.sin(2*(latdiff)) * cp.cos(2*(lat+phi0)) - \n",
        "                  35/24 * n**3 * cp.sin(3*(latdiff)) * cp.cos(3*(lat+phi0)))\n",
        "    I = M + N0\n",
        "    II = nu/2 * sinlat * coslat\n",
        "    III = nu/24 * sinlat * coslat ** 3 * (5 - tanlat ** 2 + 9 * eta2)\n",
        "    IIIA = nu/720 * sinlat * coslat ** 5 * (61-58 * tanlat**2 + tanlat**4)\n",
        "    IV = nu * coslat\n",
        "    V = nu / 6 * coslat**3 * (nu/rho - cp.tan(lat)**2)\n",
        "    VI = nu / 120 * coslat ** 5 * (5 - 18 * tanlat**2 + tanlat**4 + 14 * eta2 - 58 * tanlat**2 * eta2)\n",
        "\n",
        "    northing = I + II * longdiff**2 + III * longdiff**4 + IIIA * longdiff**6\n",
        "    easting = E0 + IV * longdiff + V * longdiff**3 + VI * longdiff**5\n",
        "\n",
        "    return(northing, easting)"
      ]
    },
    {
      "cell_type": "code",
      "execution_count": null,
      "metadata": {
        "id": "a1RpESpuNTte"
      },
      "outputs": [],
      "source": [
        "cupy_lat_med = cp.asarray(all_med['Latitude'])\n",
        "cupy_long_med = cp.asarray(all_med['Longitude'])\n",
        "northing_med_cupy_array, easting_med_cupy_array = latlong2osgbgrid_cupy(cupy_lat_med, cupy_long_med)\n",
        "all_med[\"northing\"] = cudf.Series(northing_med_cupy_array).astype(\"float32\")\n",
        "all_med[\"easting\"] = cudf.Series(easting_med_cupy_array).astype(\"float32\")"
      ]
    },
    {
      "cell_type": "markdown",
      "metadata": {
        "id": "7cHZMUFjNTte"
      },
      "source": [
        "## Find Closest Hospital or Clinic for Infected"
      ]
    },
    {
      "cell_type": "markdown",
      "metadata": {
        "id": "7--pfmA0NTte"
      },
      "source": [
        "Fit `cuml.NearestNeighbors` with `all_med`'s `northing` and `easting` values, using the named argument `n_neighbors` set to `1`, and save the model as `knn`."
      ]
    },
    {
      "cell_type": "code",
      "execution_count": null,
      "metadata": {
        "id": "SaDKfxxqNTte"
      },
      "outputs": [],
      "source": [
        "knn = cuml.NearestNeighbors(n_neighbors=1, algorithm='auto', metric = \"euclidean\")#algorithm='auto', brute"
      ]
    },
    {
      "cell_type": "markdown",
      "metadata": {
        "id": "Y5PPBO_zNTte"
      },
      "source": [
        "Save every infected member in `gdf` into a new dataframe called `infected_gdf`."
      ]
    },
    {
      "cell_type": "code",
      "execution_count": null,
      "metadata": {
        "id": "Pt5qVwc2NTtf"
      },
      "outputs": [],
      "source": [
        "infected_gdf = gdf[gdf[\"infected\"] == 1].reset_index(drop=True)#70_880 rows"
      ]
    },
    {
      "cell_type": "markdown",
      "metadata": {
        "id": "yDSRP2V9NTtf"
      },
      "source": [
        "Create `northing` and `easting` values for `infected_gdf`."
      ]
    },
    {
      "cell_type": "code",
      "execution_count": null,
      "metadata": {
        "id": "uy1VZwEFNTtf"
      },
      "outputs": [],
      "source": [
        "cupy_lat_infected = cp.asarray(infected_gdf['lat'])\n",
        "cupy_long_infected = cp.asarray(infected_gdf['long'])\n",
        "northing_infected_cupy_array, easting_infected_cupy_array = latlong2osgbgrid_cupy(cupy_lat_infected, cupy_long_infected)\n",
        "infected_gdf[\"northing\"] = cudf.Series(northing_infected_cupy_array).astype(\"float32\")\n",
        "infected_gdf[\"easting\"] = cudf.Series(easting_infected_cupy_array).astype(\"float32\")"
      ]
    },
    {
      "cell_type": "markdown",
      "metadata": {
        "id": "83rHAP98NTtf"
      },
      "source": [
        "Use `knn.kneighbors` with `n_neighbors=1` on `infected_gdf`'s `northing` and `easting` values. Save the return values in `distances` and `indices`."
      ]
    },
    {
      "cell_type": "code",
      "execution_count": null,
      "metadata": {
        "id": "W0iCPoQwNTtf"
      },
      "outputs": [],
      "source": [
        "knn.fit(all_med[['easting', 'northing']])\n",
        "distances, indices = knn.kneighbors(infected_gdf[['easting', 'northing']], 1) # order has to match the knn fit order (east, north)"
      ]
    },
    {
      "cell_type": "markdown",
      "metadata": {
        "id": "bba1c2JbNTtf"
      },
      "source": [
        "### Check Your Solution"
      ]
    },
    {
      "cell_type": "markdown",
      "metadata": {
        "id": "HDxHUCz-NTtf"
      },
      "source": [
        "`indices`, returned from your use of `knn.kneighbors` immediately above, should map person indices to their closest clinic/hospital indices:"
      ]
    },
    {
      "cell_type": "code",
      "execution_count": null,
      "metadata": {
        "id": "XTNJg0dsNTtf"
      },
      "outputs": [],
      "source": [
        "indices.head()"
      ]
    },
    {
      "cell_type": "markdown",
      "metadata": {
        "id": "KsbvElEpNTtf"
      },
      "source": [
        "Here you can print an infected individual's coordinates from `infected_gdf`:"
      ]
    },
    {
      "cell_type": "code",
      "execution_count": null,
      "metadata": {
        "id": "F7aA-Th2NTtf"
      },
      "outputs": [],
      "source": [
        "infected_gdf.iloc[0] # get the coords of an infected individual (in this case, individual 0)"
      ]
    },
    {
      "cell_type": "markdown",
      "metadata": {
        "id": "lzf4tRB7NTtg"
      },
      "source": [
        "You should be able to used the mapped index for the nearest facility to see that indeed the nearest facility is at a nearby coordinate:"
      ]
    },
    {
      "cell_type": "code",
      "execution_count": null,
      "metadata": {
        "id": "PX5GtSjNNTtg"
      },
      "outputs": [],
      "source": [
        "all_med.iloc[1234] # printing the entry for facility 1234 (replace with the index identified as closest to the individual)"
      ]
    },
    {
      "cell_type": "markdown",
      "metadata": {
        "id": "59mvOkYDNTtg"
      },
      "source": [
        "<div align=\"center\"><h2>Please Restart the Kernel</h2></div>"
      ]
    },
    {
      "cell_type": "markdown",
      "metadata": {
        "id": "WvnsfW-kNTtg"
      },
      "source": [
        "...before moving to the next notebook."
      ]
    },
    {
      "cell_type": "code",
      "execution_count": null,
      "metadata": {
        "id": "Dfp0xLyXNTtg"
      },
      "outputs": [],
      "source": [
        "import IPython\n",
        "app = IPython.Application.instance()\n",
        "app.kernel.do_shutdown(True)"
      ]
    },
    {
      "cell_type": "markdown",
      "metadata": {
        "id": "XWIurZ5qNTtg"
      },
      "source": [
        "## Next"
      ]
    },
    {
      "cell_type": "markdown",
      "metadata": {
        "id": "j8UO3wkuNTtg"
      },
      "source": [
        "Please proceed to [the next notebook](3-04_identify_risk_factors.ipynb)."
      ]
    }
  ],
  "metadata": {
    "kernelspec": {
      "display_name": "Python 3",
      "language": "python",
      "name": "python3"
    },
    "language_info": {
      "codemirror_mode": {
        "name": "ipython",
        "version": 3
      },
      "file_extension": ".py",
      "mimetype": "text/x-python",
      "name": "python",
      "nbconvert_exporter": "python",
      "pygments_lexer": "ipython3",
      "version": "3.7.8"
    },
    "colab": {
      "provenance": []
    }
  },
  "nbformat": 4,
  "nbformat_minor": 0
}