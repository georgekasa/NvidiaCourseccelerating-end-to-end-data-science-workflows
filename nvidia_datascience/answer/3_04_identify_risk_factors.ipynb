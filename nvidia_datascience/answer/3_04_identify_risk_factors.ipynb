{
  "cells": [
    {
      "cell_type": "markdown",
      "metadata": {
        "id": "1gBettqWPStl"
      },
      "source": [
        "# Week 3: Identify Risk Factors for Infection"
      ]
    },
    {
      "cell_type": "markdown",
      "metadata": {
        "id": "W9dZRIkOPStm"
      },
      "source": [
        "<span style=\"color:red\">\n",
        "**UPDATE**\n",
        "\n",
        "Thank you again for the previous analysis. We will next be publishing a public health advisory that warns of specific infection risk factors of which individuals should be aware. Please advise as to which population characteristics are associated with higher infection rates. \n",
        "</span>\n",
        "\n",
        "Your goal for this notebook will be to identify key potential demographic and economic risk factors for infection by comparing the infected and uninfected populations."
      ]
    },
    {
      "cell_type": "markdown",
      "metadata": {
        "id": "fSClE-jCPStn"
      },
      "source": [
        "## Imports"
      ]
    },
    {
      "cell_type": "code",
      "execution_count": null,
      "metadata": {
        "id": "Vewctps0PStn"
      },
      "outputs": [],
      "source": [
        "import cudf\n",
        "import cuml"
      ]
    },
    {
      "cell_type": "markdown",
      "metadata": {
        "id": "NlxCWdxLPStn"
      },
      "source": [
        "## Load Data"
      ]
    },
    {
      "cell_type": "markdown",
      "metadata": {
        "id": "oE5UmvgSPSto"
      },
      "source": [
        "Begin by loading the data you've received about week 3 of the outbreak into a cuDF data frame. The data is located at `./data/week3.csv`. For this notebook you will need all columns of the data."
      ]
    },
    {
      "cell_type": "code",
      "execution_count": null,
      "metadata": {
        "id": "MpKYeUcYPSto"
      },
      "outputs": [],
      "source": [
        "Nrows = 40_000_000#if I go over 40_000_000 my GPU it crashes from memory (try batch?)\n",
        "\n",
        "gdf = cudf.read_csv(\"/media/gkasap/ssd256gb/nvidia_datascience/week3.csv\", nrows = Nrows) #rows -> 58_479_895!!!!!!!!\n",
        "print(gdf.columns)#count number of rows in linux terminal wc -l week3.csv -> 58_479_895"
      ]
    },
    {
      "cell_type": "markdown",
      "metadata": {
        "id": "YUsCYcJpPSto"
      },
      "source": [
        "## Calculate Infection Rates by Employment Code"
      ]
    },
    {
      "cell_type": "markdown",
      "metadata": {
        "id": "0qMgGtN1PSto"
      },
      "source": [
        "Convert the `infected` column to type `float32`. For people who are not infected, the float32 `infected` value should be `0.0`, and for infected people it should be `1.0`."
      ]
    },
    {
      "cell_type": "code",
      "execution_count": null,
      "metadata": {
        "id": "iw6b3SZhPSto"
      },
      "outputs": [],
      "source": [
        "#gdf age', 'sex', 'employment', 'infected'\n",
        "gdf[\"infected\"] = gdf[\"infected\"].astype(\"float32\")"
      ]
    },
    {
      "cell_type": "markdown",
      "metadata": {
        "id": "hvHg3EgrPSto"
      },
      "source": [
        "Now, produce a list of employment types and their associated **rates** of infection, sorted from highest to lowest rate of infection.\n",
        "\n",
        "**NOTE**: The infection **rate** for each employment type should be the percentage of total individuals within an employment type who are infected. Therefore, if employment type \"X\" has 1000 people, and 10 of them are infected, the infection **rate** would be .01. If employment type \"Z\" has 10,000 people, and 50 of them are infected, the infection rate would be .005, and would be **lower** than for type \"X\", even though more people within that employment type were infected."
      ]
    },
    {
      "cell_type": "code",
      "execution_count": null,
      "metadata": {
        "id": "2JBHIsZfPSto"
      },
      "outputs": [],
      "source": [
        "infectedNumbers = gdf.groupby(\"employment\")[\"infected\"].sum()\n",
        "countOfEmploymentsNumbers = gdf.groupby(\"employment\")[\"infected\"].count()\n",
        "\n",
        "ratesOfInfection = infectedNumbers/countOfEmploymentsNumbers"
      ]
    },
    {
      "cell_type": "markdown",
      "metadata": {
        "id": "DFgozdwzPSto"
      },
      "source": [
        "Finally, read in the employment codes guide from `./data/code_guide.csv` to interpret which employment types are seeing the highest rates of infection."
      ]
    },
    {
      "cell_type": "code",
      "execution_count": null,
      "metadata": {
        "id": "DyMAWn8OPStp"
      },
      "outputs": [],
      "source": [
        "codesGuide = cudf.read_csv(\"/media/gkasap/ssd256gb/nvidia_datascience/code_guide.csv\")\n",
        "ratesOfInfection = ratesOfInfection.to_frame().reset_index()#series to dataframe\n",
        "ratesOfInfection.rename({\"employment\": \"Code\", \"infected\": \"rate\"}, axis = 1, inplace = True)#rename columns, to merge with the codesGuide DF\n",
        "\n",
        "newDataFrame = codesGuide.merge(ratesOfInfection, on=\"Code\").sort_values(\"rate\", ascending=False)\n",
        "\n",
        "\n",
        "print(\"Infected rate by employment:\\n{}\".format(newDataFrame[['Code', 'Field', 'rate']].to_string()))#unfortunately the cudf to string does not have index=False"
      ]
    },
    {
      "cell_type": "markdown",
      "metadata": {
        "id": "U3ZnCYOrPStp"
      },
      "source": [
        "## Calculate Infection Rates by Employment Code and Sex"
      ]
    },
    {
      "cell_type": "markdown",
      "metadata": {
        "id": "3hwOGvrQPStp"
      },
      "source": [
        "We want to see if there is an effect of `sex` on infection rate, either in addition to `employment` or confounding it. Group by both `employment` and `sex` simultaneously to get the infection rate for the intersection of those categories."
      ]
    },
    {
      "cell_type": "code",
      "execution_count": null,
      "metadata": {
        "id": "oT9v_DXDPStp"
      },
      "outputs": [],
      "source": [
        "infectedNumbersES = gdf.groupby([\"employment\", \"sex\"])[\"infected\"].sum()\n",
        "countOfEmploymentsNumbersES = gdf.groupby([\"employment\", \"sex\"])[\"infected\"].count()\n",
        "\n",
        "ratesOfInfectionES = infectedNumbersES/countOfEmploymentsNumbersES\n",
        "ratesOfInfectionES = ratesOfInfectionES.to_frame().reset_index()\n",
        "ratesOfInfectionES = ratesOfInfectionES.rename(columns={\"employment\": \"Code\", \"infected\": \"rate\"})\n",
        "#do logistic regression (SGD on weekened 20230225/26)"
      ]
    },
    {
      "cell_type": "markdown",
      "metadata": {
        "id": "aYkRaOgsPStp"
      },
      "source": [
        "## Take the Assessment"
      ]
    },
    {
      "cell_type": "markdown",
      "metadata": {
        "id": "RMRZ3LENPStp"
      },
      "source": [
        "After completing the work above, visit the *Launch Section* web page that you used to launch this Jupyter Lab. Scroll down below where you launched Jupyter Lab, and answer the question *Week 3 Assessment*. You can view your overall progress in the assessment by visiting the same *Launch Section* page and clicking on the link to the *Progress* page. On the *Progress* page, if you have successfully answered all the assessment questions, you can click on *Generate Certificate* to receive your certificate in the course."
      ]
    },
    {
      "cell_type": "markdown",
      "metadata": {
        "id": "5c3Cs2gYPStp"
      },
      "source": [
        "![launch_task_page](./images/launch_task_page.png)"
      ]
    },
    {
      "cell_type": "markdown",
      "metadata": {
        "id": "XiRIVvIUPStp"
      },
      "source": [
        "<div align=\"center\"><h2>Optional: Restart the Kernel</h2></div>"
      ]
    },
    {
      "cell_type": "markdown",
      "metadata": {
        "id": "VxgSYa82PStp"
      },
      "source": [
        "If you plan to continue work in other notebooks, please shutdown the kernel."
      ]
    },
    {
      "cell_type": "code",
      "execution_count": null,
      "metadata": {
        "id": "oW9LbqJrPStp"
      },
      "outputs": [],
      "source": [
        "import IPython\n",
        "app = IPython.Application.instance()\n",
        "app.kernel.do_shutdown(True)"
      ]
    },
    {
      "cell_type": "markdown",
      "metadata": {
        "id": "AeC5n8G9PStq"
      },
      "source": [
        "## Next"
      ]
    },
    {
      "cell_type": "markdown",
      "metadata": {
        "id": "-_4wN2LIPStq"
      },
      "source": [
        "Congratulations on all your work! Please continue to [the course conclusion](3-05_course_conclusion.ipynb).\n"
      ]
    }
  ],
  "metadata": {
    "kernelspec": {
      "display_name": "Python 3",
      "language": "python",
      "name": "python3"
    },
    "language_info": {
      "codemirror_mode": {
        "name": "ipython",
        "version": 3
      },
      "file_extension": ".py",
      "mimetype": "text/x-python",
      "name": "python",
      "nbconvert_exporter": "python",
      "pygments_lexer": "ipython3",
      "version": "3.7.8"
    },
    "colab": {
      "provenance": []
    }
  },
  "nbformat": 4,
  "nbformat_minor": 0
}